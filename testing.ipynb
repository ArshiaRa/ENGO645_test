{
 "cells": [
  {
   "cell_type": "code",
   "execution_count": null,
   "id": "018ab625-9720-4eed-b5ea-e86faf0df939",
   "metadata": {},
   "outputs": [],
   "source": [
    "print(\"hello testing git\")"
   ]
  }
 ],
 "metadata": {
  "kernelspec": {
   "display_name": "Python 3 (ipykernel)",
   "language": "python",
   "name": "python3"
  },
  "language_info": {
   "codemirror_mode": {
    "name": "ipython",
    "version": 3
   },
   "file_extension": ".py",
   "mimetype": "text/x-python",
   "name": "python",
   "nbconvert_exporter": "python",
   "pygments_lexer": "ipython3",
   "version": "3.11.5"
  }
 },
 "nbformat": 4,
 "nbformat_minor": 5
}
